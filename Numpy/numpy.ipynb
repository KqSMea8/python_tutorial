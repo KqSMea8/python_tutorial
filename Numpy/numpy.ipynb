{
 "cells": [
  {
   "cell_type": "markdown",
   "metadata": {},
   "source": [
    "[TOC]"
   ]
  },
  {
   "cell_type": "markdown",
   "metadata": {},
   "source": [
    "# Numpy基础"
   ]
  },
  {
   "cell_type": "markdown",
   "metadata": {},
   "source": [
    "## NumPy Ndarray 对象  \n",
    "\n",
    "* ndarray，一个具有矢量算术运算和复杂广播能力的快速且节省空间的多维数组。  \n",
    "* 用于对整组数据进行快速运算的标准数学函数（无需编写循环）\n",
    "* 用于读写磁盘数据的工具以及用于操作内存映射文件的工具。\n",
    "* 线性代数、随机数生成以及傅里叶变换功能。  \n",
    "* **用于存放同类型元素的多维数组**  \n",
    "\n",
    "```python  \n",
    "numpy.array(object, dtype = None, copy = True, order = None, subok = False, ndmin = 0)\n",
    "```\n",
    "\n",
    "|属性|说明|\n",
    "|-----|------|\n",
    "|object|数组或嵌套的数列|\n",
    "|dtype|数组元素的数据类型，可选|\n",
    "|copy|\t对象是否需要复制，可选|\n",
    "|order|创建数组的样式，C为行方向，F为列方向，A为任意方向（默认）|\n",
    "|subok|默认返回一个与基类类型一致的数组|\n",
    "|ndmin|指定生成数组的最小维度|"
   ]
  },
  {
   "cell_type": "markdown",
   "metadata": {},
   "source": [
    "## Numpy数组的属性  \n",
    "\n",
    "|属性 | 说明 |\n",
    "| ---------- | --------------------- |\n",
    "| a.ndim | 数组的维度的数量 |\n",
    "| a.shape | 数组的维度 |\n",
    "| a.size | 数组元素的总个数 |\n",
    "| a.dtype | ndarray对象的元素类型 |\n",
    "| a.itemsize | 每个元素的大小 |\n",
    "| a.flags | ndarray对象的内存信息 |\n",
    "| a.real | ndarray元素的实部 |\n",
    "| a.imag | ndarray 元素的虚部 |"
   ]
  },
  {
   "cell_type": "markdown",
   "metadata": {},
   "source": [
    "## 创建数组的方法  \n",
    "\n",
    "* 根据自带函数创建\n",
    "* 从已有的数组创建  \n",
    "* 从数值范围创建  \n",
    "* Random values"
   ]
  },
  {
   "cell_type": "markdown",
   "metadata": {},
   "source": [
    "```python\n",
    "# Method 1: np.array()\n",
    "## 1-D\n",
    "a = np.array([1,2,3])\n",
    "a.shape\n",
    "a.dtype # int32, boolean, string, float\n",
    "a.ndim\n",
    "\n",
    "## 2-D\n",
    "a = np.array([[0,1,2],[3,4,5]])\n",
    "\n",
    "# Method 2:使用函数(arange, linspace, ones, zeros, eys, diag,random)创建  \n",
    "a = np.arange(10,20,2)  # [10  12  14  16  18]\n",
    "a = np.linspace(0,1,6, endpoint=False) # 生成等差数列\n",
    "a = np.logspace(1.0,  2.0, num = 10) # 生成等比数列\n",
    "a = np.ones((3,3))\n",
    "a = np.zeros((3,3))\n",
    "a = np.empty([3,2],dtype=int)\n",
    "a = np.eye(3)\n",
    "a = np.diag(np.array([1,2,3,4]))\n",
    "a = np.triu(np.ones((3,3)),1)\n",
    "\n",
    "# Method 3: Random values\n",
    "a = np.random.rand(4) # unifomr in [0,1]\n",
    "a = np.random.randn(4) # Gaussian\n",
    "np.random.seed(1234)\n",
    "\n",
    "# Method 4:从已有的数组创建新数组  \n",
    "a = np.asarray([(1,2,3),(4,5)])\n",
    "a = np.frombuffer(b'Hello World', dtype =  'S1')   # 通过流的形式读入字符串\n",
    "\n",
    "# 使用 range 函数创建列表对象  \n",
    "list=range(5)\n",
    "it=iter(list)\n",
    " \n",
    "# 使用迭代器创建 ndarray \n",
    "x=np.fromiter(it, dtype=float)\n",
    "\n",
    "```"
   ]
  },
  {
   "cell_type": "markdown",
   "metadata": {},
   "source": [
    "## 数组的切片和索引"
   ]
  },
  {
   "cell_type": "markdown",
   "metadata": {},
   "source": [
    "**数组切片是原始数组的视图。这意味着数据不会被复制，视图上的任何修改都会直接反映到源数组上。**"
   ]
  },
  {
   "cell_type": "markdown",
   "metadata": {},
   "source": [
    "```python\n",
    "arr = np.arange(10) # [0 1 2 3 4 5 6 7 8 9] \n",
    "\n",
    "# slice\n",
    "# 1-D\n",
    "a = np.arange(10)\n",
    "a[5], a[-1] # Index: 4,9\n",
    "a[5:8] = 12 # Slice: all 5-8 is set as 12\n",
    "arr[5:8].copy() # Slice without view\n",
    "\n",
    "# 2-D\n",
    "a = np.ones((3,3))\n",
    "a[2] # second row\n",
    "a[2].copy() # slice without view\n",
    "a[0][2] # special value\n",
    "\n",
    "a[:2]\n",
    "a[:2, 1:] = 0\n",
    "\n",
    "arr[5:8] = 12 # [ 0 1 2 3 4 12 12 12 8 9]\n",
    "```"
   ]
  },
  {
   "cell_type": "markdown",
   "metadata": {},
   "source": [
    "## 高级索引"
   ]
  },
  {
   "cell_type": "markdown",
   "metadata": {},
   "source": [
    "### 整数索引"
   ]
  },
  {
   "cell_type": "markdown",
   "metadata": {},
   "source": [
    "```python  \n",
    "x = np.array([[1,  2],  [3,  4],  [5,  6]]) \n",
    "y = x[[0,1,2],  [0,1,0]]   # 获取数组中(0,0)，(1,1)和(2,0)位置处的元素。\n",
    "```"
   ]
  },
  {
   "cell_type": "markdown",
   "metadata": {},
   "source": [
    "### 布尔索引"
   ]
  },
  {
   "cell_type": "markdown",
   "metadata": {},
   "source": [
    "布尔索引通过布尔运算（如：比较运算符）来获取符合指定条件的元素的数组。"
   ]
  },
  {
   "cell_type": "markdown",
   "metadata": {},
   "source": [
    "```python\n",
    "names = np.array(['Bob', 'Joe', 'Will', 'Bob', 'Will', 'Joe', 'Joe'])\n",
    "data = np.random.randn(7, 4)\n",
    "\n",
    "data[names == 'Bob'] # select a row from data based on the if names equals Bob(boolean value)\n",
    "data[~(names == 'Bob')] # not equal to Bob\n",
    "data[(names == 'Bob') | (names == 'Will')] #e qual to Bob and Will\n",
    "data[data<0] = 0\n",
    "\n",
    "np.sum(x<6) # x中有多少值大于6\n",
    "np.any(x>8) # x中有值大于8吗\n",
    "np.all(x==10)\n",
    "\n",
    "np.sum((x>0.5) & (x<1))\n",
    "\n",
    "x[x<5] # mask operations\n",
    "```"
   ]
  },
  {
   "cell_type": "markdown",
   "metadata": {},
   "source": [
    "### 花式索引"
   ]
  },
  {
   "cell_type": "markdown",
   "metadata": {},
   "source": [
    "花式索引根据索引数组的值作为目标数组的某个轴的下标来取值。对于使用一维整型数组作为索引，如果目标是一维数组，那么索引的结果就是对应位置的元素；如果目标是二维数组，那么就是对应下标的行。"
   ]
  },
  {
   "cell_type": "code",
   "execution_count": 1,
   "metadata": {},
   "outputs": [
    {
     "name": "stdout",
     "output_type": "stream",
     "text": [
      "[[16 17 18 19]\n",
      " [ 8  9 10 11]\n",
      " [ 4  5  6  7]\n",
      " [28 29 30 31]]\n"
     ]
    }
   ],
   "source": [
    "import numpy as np\n",
    "\n",
    "x=np.arange(32).reshape((8,4))\n",
    "print (x[[4,2,1,7]])"
   ]
  },
  {
   "cell_type": "markdown",
   "metadata": {},
   "source": [
    "## 广播"
   ]
  },
  {
   "cell_type": "markdown",
   "metadata": {},
   "source": [
    "如果两个数组的维数不相同，则元素到元素的操作是不可能的。 然而，在 NumPy 中仍然可以对形状不相似的数组进行操作，因为它拥有广播功能。 较小的数组会广播到较大数组的大小，以便使它们的形状可兼容。  \n",
    "\n",
    "规则\n",
    "* ndim较小的数组会在前面追加一个长度为 1 的维度。\n",
    "* 输出数组的每个维度的大小是输入数组该维度大小的最大值。\n",
    "* 如果输入在每个维度中的大小与输出大小匹配，或其值正好为 1，则可以在计算中使用该输入。  \n",
    "* 如果输入的某个维度大小为 1，则该维度中的第一个数据元素将用于该维度的所有计算。"
   ]
  },
  {
   "cell_type": "markdown",
   "metadata": {},
   "source": [
    "![](http://www.runoob.com/wp-content/uploads/2018/10/image0020619.gif)"
   ]
  },
  {
   "cell_type": "code",
   "execution_count": 3,
   "metadata": {},
   "outputs": [
    {
     "name": "stdout",
     "output_type": "stream",
     "text": [
      "第一个数组：\n",
      "[[ 0.  0.  0.]\n",
      " [10. 10. 10.]\n",
      " [20. 20. 20.]\n",
      " [30. 30. 30.]]\n",
      "\n",
      "第二个数组：\n",
      "[1. 2. 3.]\n",
      "\n",
      "第一个数组加第二个数组：\n",
      "[[ 1.  2.  3.]\n",
      " [11. 12. 13.]\n",
      " [21. 22. 23.]\n",
      " [31. 32. 33.]]\n"
     ]
    }
   ],
   "source": [
    "a = np.array([[0.0,0.0,0.0],[10.0,10.0,10.0],[20.0,20.0,20.0],[30.0,30.0,30.0]]) \n",
    "b = np.array([1.0,2.0,3.0])\n",
    "print ('第一个数组：')\n",
    "print (a)\n",
    "print ('\\n第二个数组：')\n",
    "print (b)\n",
    "print ('\\n第一个数组加第二个数组：')\n",
    "print (a + b)"
   ]
  },
  {
   "cell_type": "markdown",
   "metadata": {},
   "source": [
    "## 数组迭代循环"
   ]
  },
  {
   "cell_type": "markdown",
   "metadata": {},
   "source": [
    "NumPy 迭代器对象 numpy.nditer 提供了一种灵活访问一个或者多个数组元素的方式。  \n",
    "\n",
    "迭代器最基本的任务的可以完成对数组元素的访问"
   ]
  },
  {
   "cell_type": "code",
   "execution_count": 4,
   "metadata": {},
   "outputs": [
    {
     "name": "stdout",
     "output_type": "stream",
     "text": [
      "原始数组是：\n",
      "[[0 1 2]\n",
      " [3 4 5]]\n",
      "\n",
      "\n",
      "迭代输出元素：\n",
      "0, 1, 2, 3, 4, 5, \n",
      "\n"
     ]
    }
   ],
   "source": [
    "a = np.arange(6).reshape(2,3)\n",
    "print ('原始数组是：')\n",
    "print (a)\n",
    "print ('\\n')\n",
    "print ('迭代输出元素：')\n",
    "for x in np.nditer(a):\n",
    "    print (x, end=\", \" )\n",
    "print ('\\n')"
   ]
  },
  {
   "cell_type": "markdown",
   "metadata": {},
   "source": [
    "### 在迭代中修改数组的值"
   ]
  },
  {
   "cell_type": "markdown",
   "metadata": {},
   "source": [
    "nditer 对象有另一个可选参数 op_flags。 默认情况下，nditer 将视待迭代遍历的数组为只读对象（read-only），为了在遍历数组的同时，实现对数组元素值得修改，必须指定 read-write 或者 write-only 的模式。"
   ]
  },
  {
   "cell_type": "code",
   "execution_count": 5,
   "metadata": {},
   "outputs": [
    {
     "name": "stdout",
     "output_type": "stream",
     "text": [
      "原始数组是：\n",
      "[[ 0  5 10 15]\n",
      " [20 25 30 35]\n",
      " [40 45 50 55]]\n",
      "\n",
      "\n",
      "修改后的数组是：\n",
      "[[  0  10  20  30]\n",
      " [ 40  50  60  70]\n",
      " [ 80  90 100 110]]\n"
     ]
    }
   ],
   "source": [
    "a = np.arange(0,60,5) \n",
    "a = a.reshape(3,4)  \n",
    "print ('原始数组是：')\n",
    "print (a)\n",
    "print ('\\n')\n",
    "for x in np.nditer(a, op_flags=['readwrite']): \n",
    "    x[...]=2*x \n",
    "print ('修改后的数组是：')\n",
    "print (a)"
   ]
  },
  {
   "cell_type": "markdown",
   "metadata": {},
   "source": [
    "## 数组操作  \n",
    "\n",
    "* 修改数组形状  \n",
    "* 反转数组  \n",
    "* 修改数组维度  \n",
    "* 连接数组  \n",
    "* 分割数组  \n",
    "* 数组元素的添加和删除  "
   ]
  },
  {
   "cell_type": "markdown",
   "metadata": {},
   "source": [
    "### 修改数组形状"
   ]
  },
  {
   "cell_type": "markdown",
   "metadata": {},
   "source": [
    "|函数|描述|\n",
    "|----|---|\n",
    "|reshape|不改变数据的条件下修改形状|\n",
    "|flat|数组元素迭代器|\n",
    "|flatten|返回一份数组拷贝，对拷贝所做的修改不会影响原始数组|\n",
    "|ravel|返回展开数组|"
   ]
  },
  {
   "cell_type": "code",
   "execution_count": 7,
   "metadata": {},
   "outputs": [
    {
     "name": "stdout",
     "output_type": "stream",
     "text": [
      "原始数组：\n",
      "[0 1 2 3 4 5 6 7]\n",
      "\n",
      "\n",
      "修改后的数组：\n",
      "[[0 1]\n",
      " [2 3]\n",
      " [4 5]\n",
      " [6 7]]\n",
      "\n",
      "\n",
      "迭代后的数组：\n",
      "0\n",
      "1\n",
      "2\n",
      "3\n",
      "4\n",
      "5\n",
      "6\n",
      "7\n",
      "展开的数组：\n",
      "[0 1 2 3 4 5 6 7]\n",
      "\n",
      "\n",
      "调用 ravel 函数之后：\n",
      "[0 1 2 3 4 5 6 7]\n",
      "\n",
      "\n"
     ]
    }
   ],
   "source": [
    "a = np.arange(8)\n",
    "print ('原始数组：')\n",
    "print (a)\n",
    "print ('\\n')\n",
    " \n",
    "b = a.reshape(4,2)\n",
    "print ('修改后的数组：')\n",
    "print (b)\n",
    "print ('\\n')\n",
    "\n",
    "#对数组中每个元素都进行处理，可以使用flat属性，该属性是一个数组元素迭代器：\n",
    "print ('迭代后的数组：')\n",
    "for element in b.flat:\n",
    "    print (element)\n",
    "\n",
    "print ('展开的数组：')\n",
    "print (b.flatten())\n",
    "print ('\\n')\n",
    "\n",
    "print ('调用 ravel 函数之后：')\n",
    "print (b.ravel())\n",
    "print ('\\n')"
   ]
  },
  {
   "cell_type": "markdown",
   "metadata": {},
   "source": [
    "### 翻转数组  \n",
    "\n",
    "|函数|描述|\n",
    "|----|---|\n",
    "|transpose|对换数组的维度|\n",
    "|rollaxis|向后滚动指定的轴|\n",
    "|swapaxes|对换数组的两个轴|"
   ]
  },
  {
   "cell_type": "code",
   "execution_count": 8,
   "metadata": {},
   "outputs": [
    {
     "name": "stdout",
     "output_type": "stream",
     "text": [
      "原数组：\n",
      "[[ 0  1  2  3]\n",
      " [ 4  5  6  7]\n",
      " [ 8  9 10 11]]\n",
      "\n",
      "\n",
      "对换数组：\n",
      "[[ 0  4  8]\n",
      " [ 1  5  9]\n",
      " [ 2  6 10]\n",
      " [ 3  7 11]]\n"
     ]
    }
   ],
   "source": [
    "a = np.arange(12).reshape(3,4)\n",
    " \n",
    "print ('原数组：')\n",
    "print (a )\n",
    "print ('\\n')\n",
    " \n",
    "print ('对换数组：')\n",
    "print (a.T)"
   ]
  },
  {
   "cell_type": "markdown",
   "metadata": {},
   "source": [
    "### 连接数组"
   ]
  },
  {
   "cell_type": "markdown",
   "metadata": {},
   "source": [
    "|函数|描述|\n",
    "|---|---|\n",
    "|concatenate|连接沿现有轴的数组序列|\n",
    "|stack|沿着新的轴加入一系列数组。|\n",
    "|hstack|水平堆叠序列中的数组（列方向）|\n",
    "|vstack|竖直堆叠序列中的数组（行方向）|"
   ]
  },
  {
   "cell_type": "code",
   "execution_count": 10,
   "metadata": {},
   "outputs": [
    {
     "name": "stdout",
     "output_type": "stream",
     "text": [
      "第一个数组：\n",
      "[[1 2]\n",
      " [3 4]]\n",
      "\n",
      "\n",
      "第二个数组：\n",
      "[[5 6]\n",
      " [7 8]]\n",
      "\n",
      "\n",
      "concatenate沿轴 0 连接两个数组：\n",
      "[[1 2]\n",
      " [3 4]\n",
      " [5 6]\n",
      " [7 8]]\n",
      "\n",
      "\n",
      "concatenate沿轴 1 连接两个数组：\n",
      "[[1 2 5 6]\n",
      " [3 4 7 8]]\n",
      "\n",
      "\n",
      "stack沿轴 0 堆叠两个数组：\n",
      "[[[1 2]\n",
      "  [3 4]]\n",
      "\n",
      " [[5 6]\n",
      "  [7 8]]]\n",
      "\n",
      "\n",
      "stack沿轴 1 堆叠两个数组：\n",
      "[[[1 2]\n",
      "  [5 6]]\n",
      "\n",
      " [[3 4]\n",
      "  [7 8]]]\n",
      "\n",
      "\n",
      "水平堆叠：\n",
      "[[1 2 5 6]\n",
      " [3 4 7 8]]\n",
      "\n",
      "\n",
      "竖直堆叠：\n",
      "[[1 2]\n",
      " [3 4]\n",
      " [5 6]\n",
      " [7 8]]\n"
     ]
    }
   ],
   "source": [
    "a = np.array([[1,2],[3,4]])\n",
    " \n",
    "print ('第一个数组：')\n",
    "print (a)\n",
    "print ('\\n')\n",
    "b = np.array([[5,6],[7,8]])\n",
    " \n",
    "print ('第二个数组：')\n",
    "print (b)\n",
    "print ('\\n')\n",
    "# 两个数组的维度相同\n",
    " \n",
    "print ('concatenate沿轴 0 连接两个数组：')\n",
    "print (np.concatenate((a,b)))\n",
    "print ('\\n')\n",
    " \n",
    "print ('concatenate沿轴 1 连接两个数组：')\n",
    "print (np.concatenate((a,b),axis = 1))\n",
    "print ('\\n')\n",
    "\n",
    "print ('stack沿轴 0 堆叠两个数组：')\n",
    "print (np.stack((a,b),0))\n",
    "print ('\\n')\n",
    " \n",
    "print ('stack沿轴 1 堆叠两个数组：')\n",
    "print (np.stack((a,b),1))\n",
    "print ('\\n')\n",
    "\n",
    "print ('水平堆叠：')\n",
    "c = np.hstack((a,b))\n",
    "print (c)\n",
    "print ('\\n')\n",
    "\n",
    "print ('竖直堆叠：')\n",
    "d = np.vstack((a,b))\n",
    "print (d)"
   ]
  },
  {
   "cell_type": "markdown",
   "metadata": {},
   "source": [
    "### 数组分割"
   ]
  },
  {
   "cell_type": "markdown",
   "metadata": {},
   "source": [
    "|函数|说明|\n",
    "|---|---|\n",
    "|split|将一个数组分割为多个子数组|\n",
    "|hsplit|将一个数组水平分割为多个子数组（按列）|\n",
    "|vsplit|将一个数组垂直分割为多个子数组（按行）|"
   ]
  },
  {
   "cell_type": "code",
   "execution_count": 12,
   "metadata": {},
   "outputs": [
    {
     "name": "stdout",
     "output_type": "stream",
     "text": [
      "第一个数组：\n",
      "[0 1 2 3 4 5 6 7 8]\n",
      "\n",
      "\n",
      "将数组分为三个大小相等的子数组：\n",
      "[array([0, 1, 2]), array([3, 4, 5]), array([6, 7, 8])]\n",
      "\n",
      "\n",
      "将数组在一维数组中表明的位置分割：\n",
      "[array([0, 1, 2, 3]), array([4, 5, 6]), array([7, 8])]\n",
      "\n",
      "\n",
      "原array：\n",
      "[[9. 3. 8. 8. 9. 9.]\n",
      " [3. 7. 1. 7. 1. 5.]\n",
      " [2. 3. 8. 6. 7. 0.]\n",
      " [2. 8. 0. 9. 6. 3.]\n",
      " [1. 9. 8. 5. 5. 0.]\n",
      " [7. 4. 8. 6. 9. 7.]]\n",
      "\n",
      "\n",
      "水平拆分后：\n",
      "[array([[9., 3.],\n",
      "       [3., 7.],\n",
      "       [2., 3.],\n",
      "       [2., 8.],\n",
      "       [1., 9.],\n",
      "       [7., 4.]]), array([[8., 8.],\n",
      "       [1., 7.],\n",
      "       [8., 6.],\n",
      "       [0., 9.],\n",
      "       [8., 5.],\n",
      "       [8., 6.]]), array([[9., 9.],\n",
      "       [1., 5.],\n",
      "       [7., 0.],\n",
      "       [6., 3.],\n",
      "       [5., 0.],\n",
      "       [9., 7.]])]\n",
      "\n",
      "\n",
      "竖直分割：\n",
      "[array([[9., 3., 8., 8., 9., 9.],\n",
      "       [3., 7., 1., 7., 1., 5.],\n",
      "       [2., 3., 8., 6., 7., 0.]]), array([[2., 8., 0., 9., 6., 3.],\n",
      "       [1., 9., 8., 5., 5., 0.],\n",
      "       [7., 4., 8., 6., 9., 7.]])]\n"
     ]
    }
   ],
   "source": [
    "a = np.arange(9)\n",
    " \n",
    "print ('第一个数组：')\n",
    "print (a)\n",
    "print ('\\n')\n",
    " \n",
    "print ('将数组分为三个大小相等的子数组：')\n",
    "b = np.split(a,3)\n",
    "print (b)\n",
    "print ('\\n')\n",
    " \n",
    "print ('将数组在一维数组中表明的位置分割：')\n",
    "b = np.split(a,[4,7])\n",
    "print (b)\n",
    "print ('\\n')\n",
    "\n",
    "harr = np.floor(10 * np.random.random((6, 6)))\n",
    "print ('原array：')\n",
    "print(harr)\n",
    "print ('\\n')\n",
    " \n",
    "print ('水平拆分后：')\n",
    "print(np.hsplit(harr, 3))\n",
    "print ('\\n')\n",
    "\n",
    "print ('竖直分割：')\n",
    "print (np.vsplit(harr,2))"
   ]
  },
  {
   "cell_type": "markdown",
   "metadata": {},
   "source": [
    "### 数组元素添加和删除  \n",
    "\n",
    "|函数|作用|\n",
    "|-----|----------|\n",
    "|resize|返回指定形状的新数组|\n",
    "|append|将值添加到数组末尾|\n",
    "|insert|沿指定轴将值插入到指定下标之前|\n",
    "|delete|删掉某个轴的子数组，并返回删除后的新数组|\n",
    "|unique|查找数组内的唯一元素|"
   ]
  },
  {
   "cell_type": "code",
   "execution_count": 14,
   "metadata": {},
   "outputs": [
    {
     "name": "stdout",
     "output_type": "stream",
     "text": [
      "第一个数组：\n",
      "[[1 2 3]\n",
      " [4 5 6]]\n",
      "\n",
      "\n",
      "第一个数组的形状：\n",
      "(2, 3)\n",
      "\n",
      "\n",
      "第二个数组：\n",
      "[[1 2]\n",
      " [3 4]\n",
      " [5 6]]\n",
      "\n",
      "\n",
      "第二个数组的形状：\n",
      "(3, 2)\n",
      "\n",
      "\n",
      "向数组添加元素：\n",
      "[1 2 3 4 5 6 7 8 9]\n",
      "\n",
      "\n",
      "沿轴 0 添加元素：\n",
      "[[1 2 3]\n",
      " [4 5 6]\n",
      " [7 8 9]]\n",
      "\n",
      "\n",
      "沿轴 1 添加元素：\n",
      "[[1 2 3 5 5 5]\n",
      " [4 5 6 7 8 9]]\n",
      "\n",
      "\n",
      "insert:沿轴 0 广播：\n",
      "[[ 1  2  3]\n",
      " [11 11 11]\n",
      " [ 4  5  6]]\n",
      "\n",
      "\n",
      "insert:沿轴 1 广播：\n",
      "[[ 1 11  2  3]\n",
      " [ 4 11  5  6]]\n",
      "删除第二列：\n",
      "[[1 3]\n",
      " [4 6]]\n",
      "\n",
      "\n"
     ]
    }
   ],
   "source": [
    "a = np.array([[1,2,3],[4,5,6]])\n",
    " \n",
    "print ('第一个数组：')\n",
    "print (a)\n",
    "print ('\\n')\n",
    "\n",
    "print ('第一个数组的形状：')\n",
    "print (a.shape)\n",
    "print ('\\n')\n",
    "b = np.resize(a, (3,2))\n",
    " \n",
    "print ('第二个数组：')\n",
    "print (b)\n",
    "print ('\\n')\n",
    " \n",
    "print ('第二个数组的形状：')\n",
    "print (b.shape)\n",
    "print ('\\n')\n",
    "\n",
    "print ('向数组添加元素：')\n",
    "print (np.append(a, [7,8,9]))\n",
    "print ('\\n')\n",
    " \n",
    "print ('沿轴 0 添加元素：')\n",
    "print (np.append(a, [[7,8,9]],axis = 0))\n",
    "print ('\\n')\n",
    " \n",
    "print ('沿轴 1 添加元素：')\n",
    "print (np.append(a, [[5,5,5],[7,8,9]],axis = 1))\n",
    "print ('\\n')\n",
    "\n",
    "print ('insert:沿轴 0 广播：')\n",
    "print (np.insert(a,1,[11],axis = 0))\n",
    "print ('\\n')\n",
    " \n",
    "print ('insert:沿轴 1 广播：')\n",
    "print (np.insert(a,1,11,axis = 1))\n",
    "\n",
    "print ('删除第二列：')\n",
    "print (np.delete(a,1,axis = 1))\n",
    "print ('\\n')"
   ]
  },
  {
   "cell_type": "markdown",
   "metadata": {},
   "source": [
    "## Numpy字符串函数"
   ]
  },
  {
   "cell_type": "markdown",
   "metadata": {},
   "source": [
    "|函数|说明|\n",
    "|----|----|\n",
    "|add()|对两个数组的逐个字符串元素进行连接|\n",
    "|multiply()|返回按元素多重连接后的字符串|\n",
    "|center()|居中字符串|\n",
    "|capitalize()|将字符串第一个字母转换为大写|\n",
    "|title()|将字符串的每个单词的第一个字母转换为大写|\n",
    "|lower()|数组元素转换为小写|\n",
    "|upper()|数组元素转换为大写|\n",
    "|split()|指定分隔符对字符串进行分割，并返回数组列表|\n",
    "|splitlines()|返回元素中的行列表，以换行符分割|\n",
    "|strip()|移除元素开头或者结尾处的特定字符|\n",
    "|join()|通过指定分隔符来连接数组中的元素|\n",
    "|replace()|使用新字符串替换字符串中的所有子字符串|\n",
    "|decode()||\n",
    "|encode()||"
   ]
  },
  {
   "cell_type": "code",
   "execution_count": 22,
   "metadata": {},
   "outputs": [
    {
     "name": "stdout",
     "output_type": "stream",
     "text": [
      "连接两个字符串：\n",
      "['hello xyz']\n",
      "\n",
      "\n",
      "连接示例：\n",
      "['hello abc' 'hi xyz']\n",
      "\n",
      "\n",
      "多重连接\n",
      "Runoob Runoob Runoob \n",
      "\n",
      "\n",
      "居中显示\n",
      "*******Runoob*******\n",
      "\n",
      "\n",
      "首字母大写\n",
      "Runoob\n",
      "\n",
      "\n",
      "所有首字母大写\n",
      "I Like Runoob\n",
      "\n",
      "\n",
      "全小写\n",
      "runoob\n",
      "\n",
      "\n",
      "全大写\n",
      "RUNOOB\n",
      "\n",
      "\n",
      "分隔符\n",
      "['i', 'like', 'runoob?']\n",
      "['www', 'runoob', 'com']\n",
      "\n",
      "\n",
      "换行符\n",
      "['i', 'like runoob?']\n",
      "['i', 'like runoob?']\n",
      "\n",
      "\n",
      "移除特定字符\n",
      "shok arunoob\n",
      "\n",
      "\n",
      "指定链接符\n",
      "['r:u:n:o:o:b' 'g-o-o-g-l-e']\n",
      "\n",
      "\n",
      "替换符\n",
      "i like runccb\n"
     ]
    }
   ],
   "source": [
    "print ('连接两个字符串：')\n",
    "print (np.char.add(['hello'],[' xyz']))\n",
    "print ('\\n')\n",
    " \n",
    "print ('连接示例：')\n",
    "print (np.char.add(['hello', 'hi'],[' abc', ' xyz']))\n",
    "print ('\\n')\n",
    "\n",
    "print ('多重连接')\n",
    "print (np.char.multiply('Runoob ',3))\n",
    "print ('\\n')\n",
    "\n",
    "print ('居中显示')\n",
    "print (np.char.center('Runoob', 20,fillchar = '*'))\n",
    "print ('\\n')\n",
    "\n",
    "print ('首字母大写')\n",
    "print (np.char.capitalize('runoob'))\n",
    "print ('\\n')\n",
    "\n",
    "print ('所有首字母大写')\n",
    "print (np.char.title('i like runoob'))\n",
    "print ('\\n')\n",
    "\n",
    "print ('全小写')\n",
    "print (np.char.lower('RUNOOB'))\n",
    "print ('\\n')\n",
    "\n",
    "print ('全大写')\n",
    "print (np.char.upper('runoob'))\n",
    "print ('\\n')\n",
    "\n",
    "print ('分隔符')\n",
    "# 分隔符默认为空格\n",
    "print (np.char.split ('i like runoob?'))\n",
    "# 分隔符为 .\n",
    "print (np.char.split ('www.runoob.com', sep = '.'))\n",
    "print ('\\n')\n",
    "\n",
    "print ('换行符')\n",
    "# 换行符 \n",
    "print (np.char.splitlines('i\\nlike runoob?')) \n",
    "print (np.char.splitlines('i\\rlike runoob?'))\n",
    "print ('\\n')\n",
    "\n",
    "print ('移除特定字符')\n",
    "# 移除字符串头尾的 a 字符\n",
    "print (np.char.strip('ashok arunooba','a'))\n",
    "print ('\\n')\n",
    "\n",
    "print ('指定链接符')     \n",
    "# 指定多个分隔符操作数组元素\n",
    "print (np.char.join([':','-'],['runoob','google']))\n",
    "print ('\\n')\n",
    "\n",
    "print ('替换符')       \n",
    "print (np.char.replace ('i like runoob', 'oo', 'cc'))"
   ]
  },
  {
   "cell_type": "markdown",
   "metadata": {},
   "source": [
    "## Numpy通用数学函数  \n",
    "\n",
    "通用函数（即ufunc）是一种对ndarray中的数据执行元素级运算的函数。你可以将其看做简单函数（接受一个或多个标量值，并产生一个或多个标量值）的矢量化包装器。  "
   ]
  },
  {
   "cell_type": "markdown",
   "metadata": {},
   "source": [
    "![](http://aliyuntianchipublic.cn-hangzhou.oss-pub.aliyun-inc.com/public/files/image/null/1532335445187_0BKZZm1lJ0.jpg)\n",
    "![](http://aliyuntianchipublic.cn-hangzhou.oss-pub.aliyun-inc.com/public/files/image/null/1532335458652_RFShN0l2xv.jpg)\n",
    "![](http://aliyuntianchipublic.cn-hangzhou.oss-pub.aliyun-inc.com/public/files/image/null/1532335470408_8FbemgBmjb.jpg)  "
   ]
  },
  {
   "cell_type": "code",
   "execution_count": 23,
   "metadata": {},
   "outputs": [
    {
     "name": "stdout",
     "output_type": "stream",
     "text": [
      "第一个数组：\n",
      "[[0. 1. 2.]\n",
      " [3. 4. 5.]\n",
      " [6. 7. 8.]]\n",
      "\n",
      "\n",
      "第二个数组：\n",
      "[10 10 10]\n",
      "\n",
      "\n",
      "两个数组相加：\n",
      "[[10. 11. 12.]\n",
      " [13. 14. 15.]\n",
      " [16. 17. 18.]]\n",
      "\n",
      "\n",
      "两个数组相减：\n",
      "[[-10.  -9.  -8.]\n",
      " [ -7.  -6.  -5.]\n",
      " [ -4.  -3.  -2.]]\n",
      "\n",
      "\n",
      "两个数组相乘：\n",
      "[[ 0. 10. 20.]\n",
      " [30. 40. 50.]\n",
      " [60. 70. 80.]]\n",
      "\n",
      "\n",
      "两个数组相除：\n",
      "[[0.  0.1 0.2]\n",
      " [0.3 0.4 0.5]\n",
      " [0.6 0.7 0.8]]\n"
     ]
    }
   ],
   "source": [
    "a = np.arange(9, dtype = np.float_).reshape(3,3)  \n",
    "print ('第一个数组：')\n",
    "print (a)\n",
    "print ('\\n')\n",
    "print ('第二个数组：')\n",
    "b = np.array([10,10,10])  \n",
    "print (b)\n",
    "print ('\\n')\n",
    "print ('两个数组相加：')\n",
    "print (np.add(a,b))\n",
    "print ('\\n')\n",
    "print ('两个数组相减：')\n",
    "print (np.subtract(a,b))\n",
    "print ('\\n')\n",
    "print ('两个数组相乘：')\n",
    "print (np.multiply(a,b))\n",
    "print ('\\n')\n",
    "print ('两个数组相除：')\n",
    "print (np.divide(a,b))"
   ]
  },
  {
   "cell_type": "markdown",
   "metadata": {},
   "source": [
    "## Numpy统计函数"
   ]
  },
  {
   "cell_type": "markdown",
   "metadata": {},
   "source": [
    "![](https://img2018.cnblogs.com/blog/1575244/201901/1575244-20190104110612898-1338707515.png)"
   ]
  },
  {
   "cell_type": "markdown",
   "metadata": {},
   "source": [
    "* numpy.amin() 和 numpy.amax()  \n",
    "numpy.amin() 用于计算数组中的元素沿指定轴的最小值。  \n",
    "numpy.amax() 用于计算数组中的元素沿指定轴的最大值。  \n",
    "* numpy.ptp()函数计算数组中元素最大值与最小值的差（最大值 - 最小值）。  \n",
    "* numpy.percentile()表示小于这个值的观察值的百分比。  \n",
    "* numpy.median() 函数用于计算数组 a 中元素的中位数  \n",
    "* numpy.mean() 函数返回数组中元素的算术平均值。 如果提供了轴，则沿其计算。  \n",
    "* numpy.std()计算标准差  \n",
    "* np.var()计算方差"
   ]
  },
  {
   "cell_type": "markdown",
   "metadata": {},
   "source": [
    "# Numpy高级"
   ]
  },
  {
   "cell_type": "code",
   "execution_count": null,
   "metadata": {},
   "outputs": [],
   "source": []
  },
  {
   "cell_type": "code",
   "execution_count": null,
   "metadata": {},
   "outputs": [],
   "source": []
  },
  {
   "cell_type": "code",
   "execution_count": null,
   "metadata": {},
   "outputs": [],
   "source": []
  },
  {
   "cell_type": "code",
   "execution_count": null,
   "metadata": {},
   "outputs": [],
   "source": []
  },
  {
   "cell_type": "code",
   "execution_count": null,
   "metadata": {},
   "outputs": [],
   "source": []
  },
  {
   "cell_type": "code",
   "execution_count": null,
   "metadata": {},
   "outputs": [],
   "source": []
  },
  {
   "cell_type": "code",
   "execution_count": null,
   "metadata": {},
   "outputs": [],
   "source": []
  },
  {
   "cell_type": "code",
   "execution_count": null,
   "metadata": {},
   "outputs": [],
   "source": []
  },
  {
   "cell_type": "code",
   "execution_count": null,
   "metadata": {},
   "outputs": [],
   "source": []
  }
 ],
 "metadata": {
  "kernelspec": {
   "display_name": "Python 3",
   "language": "python",
   "name": "python3"
  },
  "language_info": {
   "codemirror_mode": {
    "name": "ipython",
    "version": 3
   },
   "file_extension": ".py",
   "mimetype": "text/x-python",
   "name": "python",
   "nbconvert_exporter": "python",
   "pygments_lexer": "ipython3",
   "version": "3.7.1"
  },
  "toc": {
   "base_numbering": 1,
   "nav_menu": {},
   "number_sections": true,
   "sideBar": true,
   "skip_h1_title": false,
   "title_cell": "Table of Contents",
   "title_sidebar": "Contents",
   "toc_cell": false,
   "toc_position": {},
   "toc_section_display": true,
   "toc_window_display": true
  }
 },
 "nbformat": 4,
 "nbformat_minor": 2
}
